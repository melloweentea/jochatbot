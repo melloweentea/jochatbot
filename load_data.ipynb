{
 "cells": [
  {
   "cell_type": "code",
   "execution_count": 1,
   "metadata": {},
   "outputs": [],
   "source": [
    "import streamlit as st \n",
    "from langchain_core.messages import HumanMessage, AIMessage\n",
    "from langchain_core.prompts import ChatPromptTemplate\n",
    "from langchain_openai import ChatOpenAI\n",
    "from langchain_core.output_parsers import StrOutputParser\n",
    "from langchain.text_splitter import RecursiveCharacterTextSplitter\n",
    "from langchain_community.embeddings import OpenAIEmbeddings\n",
    "from langchain_community.vectorstores import Chroma, FAISS\n",
    "from langchain_community.document_loaders.merge import MergedDataLoader\n",
    "from langchain_community.document_loaders import SpiderLoader, PyPDFLoader, WebBaseLoader, DirectoryLoader\n",
    "from langchain_community.vectorstores.utils import filter_complex_metadata\n",
    "from dotenv import load_dotenv\n",
    "import os\n",
    "import shutil"
   ]
  },
  {
   "cell_type": "code",
   "execution_count": null,
   "metadata": {},
   "outputs": [],
   "source": [
    "#note: run using python -m streamlit run app.py instead \n",
    "\n",
    "load_dotenv()\n",
    "FAISS_PATH = \"/Users/macbook/Desktop/code/proj/jochatbot/faiss_data\"\n",
    "CHROMA_PATH = \"/Users/macbook/Desktop/code/proj/jochatbot/chroma_data\"\n",
    "DIR_PATH_TXT = \"/Users/macbook/Desktop/code/proj/jochatbot/data/txt\"\n",
    "DIR_PATH_CSV = '/Users/macbook/Desktop/code/proj/jochatbot/data/csv'\n",
    "\n",
    "os.environ['OPENAI_API_KEY'] = os.environ.get('API_KEY_PERSONAL')"
   ]
  },
  {
   "cell_type": "code",
   "execution_count": 3,
   "metadata": {},
   "outputs": [],
   "source": [
    "loader_txt = DirectoryLoader(DIR_PATH_TXT, glob=\"*.txt\")\n",
    "# loader_csv = DirectoryLoader(DIR_PATH_CSV, glob=\"*.csv\")\n",
    "loader_pdf = PyPDFLoader(\"data/pdf/1. คู่มือ FXdreema (Jobot Invest).pdf\", extract_images=True)"
   ]
  },
  {
   "cell_type": "code",
   "execution_count": 4,
   "metadata": {},
   "outputs": [],
   "source": [
    "\n",
    "# loader_meta = SpiderLoader(\"https://www.mql5.com/en/code/mt5\",\n",
    "#                            api_key=\"sk-c5a3c4fd-2a64-4e06-9780-56e78faf5625\",\n",
    "#                            mode=\"crawl\")\n",
    "# loader_forex = SpiderLoader(\"https://www.forexstrategiesresources.com/\",\n",
    "#                             api_key=\"sk-c5a3c4fd-2a64-4e06-9780-56e78faf5625\",\n",
    "#                             mode=\"crawl\")\n",
    "\n",
    "loader_all = MergedDataLoader(loaders=[loader_txt, loader_pdf])\n",
    "documents = loader_all.load()\n",
    "docs_processed = filter_complex_metadata(documents)\n",
    "\n",
    "text_splitter = RecursiveCharacterTextSplitter(\n",
    "    chunk_size=1000,\n",
    "    chunk_overlap=100,\n",
    "    length_function=len,\n",
    "    add_start_index=True\n",
    ")\n",
    "chunks = text_splitter.split_documents(documents)\n"
   ]
  },
  {
   "cell_type": "code",
   "execution_count": null,
   "metadata": {},
   "outputs": [],
   "source": [
    "db = FAISS.from_documents(chunks, OpenAIEmbeddings())\n",
    "db.save_local(FAISS_PATH)"
   ]
  },
  {
   "cell_type": "code",
   "execution_count": null,
   "metadata": {},
   "outputs": [],
   "source": [
    "db = Chroma.from_documents(chunks, OpenAIEmbeddings(), persist_directory=CHROMA_PATH)\n",
    "db.persist()"
   ]
  }
 ],
 "metadata": {
  "kernelspec": {
   "display_name": "nlp",
   "language": "python",
   "name": "python3"
  },
  "language_info": {
   "codemirror_mode": {
    "name": "ipython",
    "version": 3
   },
   "file_extension": ".py",
   "mimetype": "text/x-python",
   "name": "python",
   "nbconvert_exporter": "python",
   "pygments_lexer": "ipython3",
   "version": "3.9.16"
  }
 },
 "nbformat": 4,
 "nbformat_minor": 2
}
